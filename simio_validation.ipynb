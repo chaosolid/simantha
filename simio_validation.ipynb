{
 "cells": [
  {
   "cell_type": "code",
   "execution_count": 73,
   "metadata": {
    "collapsed": true
   },
   "outputs": [],
   "source": [
    "import random\n",
    "import time\n",
    "\n",
    "import matplotlib.pyplot as plt\n",
    "import numpy as np\n",
    "import pandas as pd\n",
    "import scipy.stats\n",
    "\n",
    "plt.rcParams.update({'font.size': 12})\n",
    "\n",
    "from simantha import Source, Machine, Buffer, Sink, Repairman, System, utils"
   ]
  },
  {
   "cell_type": "markdown",
   "metadata": {},
   "source": [
    "### Single-machine production"
   ]
  },
  {
   "cell_type": "code",
   "execution_count": 74,
   "metadata": {},
   "outputs": [
    {
     "name": "stdout",
     "output_type": "stream",
     "text": [
      "Finished 1000 replications in 31.72s\n",
      "Average production: 8055.98 units\n"
     ]
    }
   ],
   "source": [
    "p = 0.1\n",
    "h_max = 10\n",
    "degradation_matrix = utils.generate_degradation_matrix(p=p, h_max=h_max)\n",
    "# TTF is negative binomial with n=11 and p=0.1\n",
    "\n",
    "a, b = [20, 30]\n",
    "cm_distribution = {'uniform': [a, b]}\n",
    "\n",
    "source = Source()\n",
    "M1 = Machine(\n",
    "    name='M1', \n",
    "    cycle_time=1,\n",
    "    degradation_matrix=degradation_matrix,\n",
    "    cm_distribution=cm_distribution\n",
    ")\n",
    "sink = Sink()\n",
    "\n",
    "objects = [source, M1, sink]\n",
    "\n",
    "M1.define_routing(upstream=[source], downstream=[sink])\n",
    "\n",
    "system = System(objects=objects)\n",
    "\n",
    "results = system.iterate_simulation(replications=1000, simulation_time=7*24*60, jobs=10)"
   ]
  },
  {
   "cell_type": "code",
   "execution_count": null,
   "metadata": {
    "collapsed": true
   },
   "outputs": [],
   "source": [
    "# simio results\n",
    "pd.read_csv('')"
   ]
  }
 ],
 "metadata": {
  "kernelspec": {
   "display_name": "Python 3",
   "language": "python",
   "name": "python3"
  },
  "language_info": {
   "codemirror_mode": {
    "name": "ipython",
    "version": 3
   },
   "file_extension": ".py",
   "mimetype": "text/x-python",
   "name": "python",
   "nbconvert_exporter": "python",
   "pygments_lexer": "ipython3",
   "version": "3.6.1"
  }
 },
 "nbformat": 4,
 "nbformat_minor": 2
}
